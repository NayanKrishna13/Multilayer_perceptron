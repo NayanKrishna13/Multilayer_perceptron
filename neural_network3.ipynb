{
 "cells": [
  {
   "cell_type": "code",
   "execution_count": 2,
   "metadata": {},
   "outputs": [
    {
     "name": "stdout",
     "output_type": "stream",
     "text": [
      "<class 'numpy.ndarray'>\n",
      "<class 'numpy.ndarray'>\n"
     ]
    }
   ],
   "source": [
    "import numpy as np\n",
    "import matplotlib.pyplot as plt\n",
    "import torch\n",
    "import torchvision #contains\n",
    "#definitions of models for addressing different tasks, including: image classification, pixelwise semantic segmentation,\n",
    "from torch import nn,optim\n",
    "from time import time\n",
    "from torch.utils.data import TensorDataset, DataLoader\n",
    "from torchvision import transforms\n",
    "from torchvision.io import read_image\n",
    "x=np.load('dataset.npy')\n",
    "y=np.load('labels.npy')\n",
    "print(type(x))\n",
    "print(type(y))\n",
    "#batch_size = 128\n",
    "'''transform = transforms.Compose([transforms.ToTensor(),\n",
    "                              transforms.Normalize((0.5,), (0.5,)),\n",
    "                              ])'''\n",
    "dataset = TensorDataset(torch.from_numpy(x[0:50000]).unsqueeze(1), torch.from_numpy(y[0:50000]))\n",
    "trainloader=torch.utils.data.DataLoader(dataset,batch_size=1000,shuffle=True)\n",
    "#valloader=torch.utils.data.DataLoader(y,batch_size=64,shuffle=True)"
   ]
  },
  {
   "cell_type": "code",
   "execution_count": 3,
   "metadata": {},
   "outputs": [],
   "source": [
    "img1=read_image(\"im-1.png\")\n",
    "img2=read_image(\"im-2.png\")\n",
    "img3=read_image(\"im-3.png\")\n",
    "img4=read_image(\"im-4.png\")\n",
    "img5=read_image(\"im-5.png\")\n",
    "#valset=torch.cat([img1,img2,img3,img4,img5],0)\n",
    "valset=TensorDataset(torch.from_numpy(x[50000:59994]).unsqueeze(1), torch.from_numpy(y[50000:59994]))\n",
    "valloader=torch.utils.data.DataLoader(valset,batch_size=1000,shuffle=True)"
   ]
  },
  {
   "cell_type": "code",
   "execution_count": 4,
   "metadata": {},
   "outputs": [
    {
     "name": "stdout",
     "output_type": "stream",
     "text": [
      "torch.Size([1000, 1, 28, 28])\n",
      "torch.Size([1000])\n"
     ]
    }
   ],
   "source": [
    "dataiter=iter(trainloader)\n",
    "images,labels=dataiter.next()\n",
    "print(images.shape)\n",
    "print(labels.shape)"
   ]
  },
  {
   "cell_type": "code",
   "execution_count": 6,
   "metadata": {},
   "outputs": [
    {
     "name": "stdout",
     "output_type": "stream",
     "text": [
      "Sequential(\n",
      "  (0): Linear(in_features=784, out_features=128, bias=True)\n",
      "  (1): ReLU()\n",
      "  (2): Linear(in_features=128, out_features=64, bias=True)\n",
      "  (3): ReLU()\n",
      "  (4): Linear(in_features=64, out_features=10, bias=True)\n",
      "  (5): LogSoftmax(dim=1)\n",
      ")\n"
     ]
    }
   ],
   "source": [
    "input_size=784      #structure of the neural network\n",
    "hidden_sizes=[128,64]\n",
    "output_size=10\n",
    "model=nn.Sequential(nn.Linear(input_size,hidden_sizes[0]),\n",
    "nn.ReLU(),\n",
    "nn.Linear(hidden_sizes[0],hidden_sizes[1]),\n",
    "nn.ReLU(),\n",
    "nn.Linear(hidden_sizes[1],output_size),\n",
    "nn.LogSoftmax(dim=1))#softmax function takes a vector/tensor and returns a probability distribution of n possible outcomes\n",
    "print(model)\n"
   ]
  },
  {
   "cell_type": "code",
   "execution_count": 7,
   "metadata": {},
   "outputs": [],
   "source": [
    "criterion = nn.NLLLoss()#negative log likelihood\n",
    "images, labels = next(iter(trainloader))\n",
    "images = images.view(images.shape[0], -1)\n",
    "\n",
    "logps = model(images.float())\n",
    "loss = criterion(logps,labels)"
   ]
  },
  {
   "cell_type": "code",
   "execution_count": 8,
   "metadata": {},
   "outputs": [
    {
     "name": "stdout",
     "output_type": "stream",
     "text": [
      "Before backward pass: \n",
      " None\n",
      "After backward pass: \n",
      " tensor([[-3.0481e-02,  0.0000e+00,  0.0000e+00,  ..., -1.0865e+00,\n",
      "          1.3389e-04, -4.6979e-01],\n",
      "        [ 6.1478e-02,  0.0000e+00,  0.0000e+00,  ...,  1.3885e+00,\n",
      "          1.9286e-05,  6.0884e-01],\n",
      "        [ 0.0000e+00,  0.0000e+00,  0.0000e+00,  ...,  7.3089e-01,\n",
      "          0.0000e+00,  1.8236e-01],\n",
      "        ...,\n",
      "        [ 3.9683e-02,  0.0000e+00,  0.0000e+00,  ...,  1.4644e+00,\n",
      "          5.3031e-05,  4.1940e-01],\n",
      "        [ 2.5094e-02,  0.0000e+00,  0.0000e+00,  ...,  3.0216e-01,\n",
      "          0.0000e+00,  1.8605e-01],\n",
      "        [ 6.3802e-03,  0.0000e+00,  0.0000e+00,  ...,  1.2840e+00,\n",
      "         -1.1139e-04,  5.4375e-01]])\n"
     ]
    }
   ],
   "source": [
    "print('Before backward pass: \\n', model[0].weight.grad)\n",
    "loss.backward()\n",
    "print('After backward pass: \\n', model[0].weight.grad)"
   ]
  },
  {
   "cell_type": "code",
   "execution_count": 9,
   "metadata": {},
   "outputs": [
    {
     "name": "stdout",
     "output_type": "stream",
     "text": [
      "Epoch 0 - Training loss: 2.2722161424160006\n",
      "Epoch 10 - Training loss: 0.12314142733812332\n",
      "Epoch 20 - Training loss: 0.080153953358531\n",
      "Epoch 30 - Training loss: 0.0541091026365757\n",
      "Epoch 40 - Training loss: 0.03908211566507816\n",
      "Epoch 50 - Training loss: 0.026891570203006268\n",
      "Epoch 60 - Training loss: 0.020397195760160684\n",
      "Epoch 70 - Training loss: 0.013773904172703624\n",
      "Epoch 80 - Training loss: 0.009223891431465745\n",
      "Epoch 90 - Training loss: 0.00626274255104363\n",
      "\n",
      "Training Time (in minutes) = 4.5756852388381954\n"
     ]
    }
   ],
   "source": [
    "optimizer = optim.SGD(model.parameters(), lr=0.003,momentum=0.9)#momentum\n",
    "#is a variant of stochastic gradient descent It replaces the \n",
    "# gradient with a momentum which is an aggregate of gradients \n",
    "# optimizers are algorithms that adjust the model’s parameters during training to minimize a loss function\n",
    "time0 = time()\n",
    "epochs = 100\n",
    "losses=[]\n",
    "for e in range(epochs):\n",
    "    running_loss = 0\n",
    "    for images, labels in trainloader:\n",
    "        images = images.view(images.shape[0], -1)\n",
    "    \n",
    "        optimizer.zero_grad()\n",
    "        \n",
    "        output = model(images.float())\n",
    "        loss = criterion(output, labels)\n",
    "        #losses.append(loss.detach().numpy())\n",
    "        loss.backward()\n",
    "        \n",
    "        optimizer.step()\n",
    "        \n",
    "        running_loss += loss.item()\n",
    "        losses.append(running_loss/len(trainloader))\n",
    "\n",
    "    else:\n",
    "        if e%10==0:\n",
    "            print(\"Epoch {} - Training loss: {}\".format(e, running_loss/len(trainloader)))\n",
    "        \n",
    "print(\"\\nTraining Time (in minutes) =\",(time()-time0)/60)"
   ]
  },
  {
   "cell_type": "code",
   "execution_count": null,
   "metadata": {},
   "outputs": [],
   "source": [
    "plt.plot(range(epochs),losses)\n",
    "plt.ylabel(\"loss/error\")\n",
    "plt.xlabel('Epoch')"
   ]
  },
  {
   "cell_type": "code",
   "execution_count": 10,
   "metadata": {},
   "outputs": [
    {
     "name": "stdout",
     "output_type": "stream",
     "text": [
      "Number Of Images Tested = 9994\n",
      "\n",
      "Model Accuracy = 96.26776065639385 %\n"
     ]
    }
   ],
   "source": [
    "correct_count, all_count = 0, 0\n",
    "for images,labels in valloader:\n",
    "  for i in range(len(labels)):\n",
    "    img = images[i].view(1, 784)\n",
    "    with torch.no_grad():\n",
    "        logps = model(img.float())\n",
    "\n",
    "    \n",
    "    ps = torch.exp(logps)\n",
    "    probab = list(ps.numpy()[0])\n",
    "    pred_label = probab.index(max(probab))\n",
    "    true_label = labels.numpy()[i]\n",
    "    if(true_label == pred_label):\n",
    "      correct_count += 1\n",
    "    all_count += 1\n",
    "\n",
    "print(\"Number Of Images Tested =\", all_count)\n",
    "print(\"\\nModel Accuracy =\", (correct_count/all_count)*100,\"%\")"
   ]
  },
  {
   "cell_type": "code",
   "execution_count": null,
   "metadata": {},
   "outputs": [],
   "source": [
    "torch.save(model,'number_recognition_model.pt')"
   ]
  },
  {
   "cell_type": "code",
   "execution_count": null,
   "metadata": {},
   "outputs": [],
   "source": [
    "img1=(read_image(\"im-1.png\"))\n",
    "img2=read_image(\"im-2.png\")\n",
    "img3=read_image(\"im-3.png\")\n",
    "img4=read_image(\"im-4.png\")\n",
    "img5=read_image(\"im-5.png\")\n",
    "#s=np.load(\"dataset.npy\")\n",
    "#s.shape\n",
    "valset2=torch.cat([img1,img2,img3,img4,img5],0)\n",
    "#valset2.shape\n",
    "\n",
    "'''for images in valset2:\n",
    "     img=images[i].view(1,28)\n",
    "     with torch.no_grad():\n",
    "            logps=model(img.float())\n",
    "        ps = torch.exp(logps)\n",
    "        probab = list(ps.numpy()[0])\n",
    "        pred_label = probab.index(max(probab))\n",
    "        print(pred_label)'''\n",
    "        \n",
    "            \n",
    "        \n",
    "#print(model_loaded(valset2))\n"
   ]
  },
  {
   "cell_type": "code",
   "execution_count": null,
   "metadata": {},
   "outputs": [],
   "source": []
  }
 ],
 "metadata": {
  "kernelspec": {
   "display_name": "base",
   "language": "python",
   "name": "python3"
  },
  "language_info": {
   "codemirror_mode": {
    "name": "ipython",
    "version": 3
   },
   "file_extension": ".py",
   "mimetype": "text/x-python",
   "name": "python",
   "nbconvert_exporter": "python",
   "pygments_lexer": "ipython3",
   "version": "3.9.12"
  }
 },
 "nbformat": 4,
 "nbformat_minor": 2
}
